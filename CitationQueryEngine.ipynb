{
  "nbformat": 4,
  "nbformat_minor": 0,
  "metadata": {
    "colab": {
      "provenance": []
    },
    "kernelspec": {
      "name": "python3",
      "display_name": "Python 3"
    },
    "language_info": {
      "name": "python"
    }
  },
  "cells": [
    {
      "cell_type": "code",
      "execution_count": 1,
      "metadata": {
        "id": "ka-MkPpC4_Zd"
      },
      "outputs": [],
      "source": [
        "%%capture\n",
        "! pip install -q --upgrade pypdf llama-index llama-index-llms-gemini llama-index-embeddings-gemini"
      ]
    },
    {
      "cell_type": "code",
      "source": [
        "## get the data\n",
        "!wget \"https://openreview.net/pdf?id=VtmBAGCN7o\" -O metagpt.pdf"
      ],
      "metadata": {
        "colab": {
          "base_uri": "https://localhost:8080/"
        },
        "id": "6DkdyzYu5DBY",
        "outputId": "50133b14-05fe-4c4d-e78e-be4b14f9991d"
      },
      "execution_count": 2,
      "outputs": [
        {
          "output_type": "stream",
          "name": "stdout",
          "text": [
            "--2024-06-30 06:52:54--  https://openreview.net/pdf?id=VtmBAGCN7o\n",
            "Resolving openreview.net (openreview.net)... 35.184.86.251\n",
            "Connecting to openreview.net (openreview.net)|35.184.86.251|:443... connected.\n",
            "HTTP request sent, awaiting response... 200 OK\n",
            "Length: 16911937 (16M) [application/pdf]\n",
            "Saving to: ‘metagpt.pdf’\n",
            "\n",
            "metagpt.pdf         100%[===================>]  16.13M  39.1MB/s    in 0.4s    \n",
            "\n",
            "2024-06-30 06:52:55 (39.1 MB/s) - ‘metagpt.pdf’ saved [16911937/16911937]\n",
            "\n"
          ]
        }
      ]
    },
    {
      "cell_type": "code",
      "source": [
        "import os\n",
        "from google.colab import userdata\n",
        "GOOGLE_API_KEY = userdata.get('GOOGLE_API_KEY')\n",
        "\n",
        "os.environ[\"GOOGLE_API_KEY\"] = GOOGLE_API_KEY"
      ],
      "metadata": {
        "id": "tiHcnbdB5Vso"
      },
      "execution_count": 3,
      "outputs": []
    },
    {
      "cell_type": "code",
      "source": [
        "from llama_index.core import Settings\n",
        "from llama_index.core import SummaryIndex, VectorStoreIndex\n",
        "from llama_index.llms.gemini import Gemini\n",
        "from llama_index.embeddings.gemini import GeminiEmbedding\n",
        "from llama_index.core import StorageContext\n",
        "from llama_index.core import SimpleDirectoryReader\n",
        "from llama_index.core.query_engine import CitationQueryEngine\n",
        "import nest_asyncio\n",
        "\n",
        "nest_asyncio.apply()"
      ],
      "metadata": {
        "id": "PVt6NZex5m14"
      },
      "execution_count": 4,
      "outputs": []
    },
    {
      "cell_type": "code",
      "source": [
        "##Load the data\n",
        "documents = SimpleDirectoryReader(input_files=['metagpt.pdf']).load_data()"
      ],
      "metadata": {
        "id": "lLFqAOTB5Vle"
      },
      "execution_count": 5,
      "outputs": []
    },
    {
      "cell_type": "code",
      "source": [
        "gemini_embedding_model = GeminiEmbedding(model_name=\"models/embedding-001\")\n",
        "llm = Gemini(model_name=\"models/gemini-1.5-flash-latest\")"
      ],
      "metadata": {
        "id": "vrVbvW4s5VjK"
      },
      "execution_count": 6,
      "outputs": []
    },
    {
      "cell_type": "code",
      "source": [
        "# Set Global settings\n",
        "Settings.llm = llm\n",
        "Settings.embed_model = gemini_embedding_model"
      ],
      "metadata": {
        "id": "5vo6cs1D5VfH"
      },
      "execution_count": 7,
      "outputs": []
    },
    {
      "cell_type": "code",
      "source": [
        "index = VectorStoreIndex(documents)"
      ],
      "metadata": {
        "id": "VS4gn9Os5epb"
      },
      "execution_count": 8,
      "outputs": []
    },
    {
      "cell_type": "code",
      "source": [
        "##Create the CitationQueryEngine with Default Arguments\n",
        "query_engine = CitationQueryEngine.from_args(\n",
        "    index,\n",
        "    similarity_top_k=3,\n",
        "    #default is 512\n",
        "    citation_chunk_size=512,\n",
        ")\n",
        "\n",
        "response = query_engine.query(\"How do agents share information with other agents?\")\n",
        "print(response)"
      ],
      "metadata": {
        "colab": {
          "base_uri": "https://localhost:8080/",
          "height": 52
        },
        "id": "_iIjTUOC5ekX",
        "outputId": "a2c0e481-81fa-4005-9f21-a0a8342805ec"
      },
      "execution_count": 9,
      "outputs": [
        {
          "output_type": "stream",
          "name": "stdout",
          "text": [
            "Agents share information with other agents by complying with development and communication protocols defined in MetaGPT. [2] \n",
            "\n"
          ]
        }
      ]
    },
    {
      "cell_type": "code",
      "source": [
        "print(len(response.source_nodes))"
      ],
      "metadata": {
        "colab": {
          "base_uri": "https://localhost:8080/"
        },
        "id": "EVTsU4eh5-rS",
        "outputId": "157d4aae-e116-44d8-e14b-165d3885cd70"
      },
      "execution_count": 10,
      "outputs": [
        {
          "output_type": "stream",
          "name": "stdout",
          "text": [
            "5\n"
          ]
        }
      ]
    },
    {
      "cell_type": "code",
      "source": [
        "## Inspecting the source\n",
        "print(response.source_nodes[0].node.get_text())"
      ],
      "metadata": {
        "colab": {
          "base_uri": "https://localhost:8080/"
        },
        "id": "ImXneAoS6CgH",
        "outputId": "1f2b387f-a3ce-4446-8f12-5dce928e3ed1"
      },
      "execution_count": 11,
      "outputs": [
        {
          "output_type": "stream",
          "name": "stdout",
          "text": [
            "Source 1:\n",
            "Preprint\n",
            "Figure 12: The program call flow for “recommendation engine development” generated by the\n",
            "architect agent ( zoom in for a better view ).\n",
            "ware design scenarios and standard operating procedures (SOPs) where effective communication is\n",
            "essential.\n",
            "27\n",
            "\n"
          ]
        }
      ]
    },
    {
      "cell_type": "code",
      "source": [
        "print(response.source_nodes[1].node.get_text())"
      ],
      "metadata": {
        "colab": {
          "base_uri": "https://localhost:8080/"
        },
        "id": "kDB-4gRt6Cdm",
        "outputId": "ec152286-6b83-4e37-8d89-67fe5f1887a9"
      },
      "execution_count": 12,
      "outputs": [
        {
          "output_type": "stream",
          "name": "stdout",
          "text": [
            "Source 2:\n",
            "Preprint\n",
            "and pay according to their usage. Moreover, users can purchase additional capabilities to expand the\n",
            "plug-and-play functions of their existing agents. This allows users to gradually upgrade their agents.\n",
            "Within the MetaGPT framework, AgentStore can support the collaboration of various agents. Users\n",
            "can collect several agents together to carry out more complex tasks or projects, and all the agents\n",
            "share and comply with development and communication protocols defined in MetaGPT.\n",
            "Figure 6: AgentStore is a platform dedicated to serving users in the creation and development of\n",
            "agents within the MetaGPT framework. This platform provides users with an operational interface,\n",
            "allowing users to easily manage a variety of agents with different emotions, personalities, and capa-\n",
            "bilities for specific tasks.\n",
            "16\n",
            "\n"
          ]
        }
      ]
    },
    {
      "cell_type": "code",
      "source": [
        "#Adjusting the Setting\n",
        "query_engine = CitationQueryEngine.from_args(\n",
        "    index,\n",
        "    # increase the citation chunk size!\n",
        "    citation_chunk_size=1024,\n",
        "    similarity_top_k=3,\n",
        ")"
      ],
      "metadata": {
        "id": "0FPSwSTU6Lcf"
      },
      "execution_count": 13,
      "outputs": []
    },
    {
      "cell_type": "code",
      "source": [
        "response = query_engine.query(\"How do agents share information with other agents?\")"
      ],
      "metadata": {
        "id": "0x7vY-Gr6SDX"
      },
      "execution_count": 14,
      "outputs": []
    },
    {
      "cell_type": "code",
      "source": [
        "print(response)"
      ],
      "metadata": {
        "colab": {
          "base_uri": "https://localhost:8080/"
        },
        "id": "3t9CN9OK6WVa",
        "outputId": "89b05cb0-f4b8-4a0b-8cdb-d690fd263510"
      },
      "execution_count": 15,
      "outputs": [
        {
          "output_type": "stream",
          "name": "stdout",
          "text": [
            "Agents share and comply with development and communication protocols defined in MetaGPT. [2] \n",
            "\n"
          ]
        }
      ]
    },
    {
      "cell_type": "code",
      "source": [
        "# should be less source nodes now!\n",
        "print(len(response.source_nodes))"
      ],
      "metadata": {
        "colab": {
          "base_uri": "https://localhost:8080/"
        },
        "id": "rZsQfAMF6Yae",
        "outputId": "5582576a-bf80-4c86-e66a-903ef9598209"
      },
      "execution_count": 16,
      "outputs": [
        {
          "output_type": "stream",
          "name": "stdout",
          "text": [
            "4\n"
          ]
        }
      ]
    },
    {
      "cell_type": "code",
      "source": [
        "##Inspecting the actual source\n",
        "print(response.source_nodes[0].node.get_text())"
      ],
      "metadata": {
        "colab": {
          "base_uri": "https://localhost:8080/"
        },
        "id": "Xo9DKGWV6bpe",
        "outputId": "6506ab67-f62e-419a-c735-965a6de4e88c"
      },
      "execution_count": 17,
      "outputs": [
        {
          "output_type": "stream",
          "name": "stdout",
          "text": [
            "Source 1:\n",
            "Preprint\n",
            "Figure 12: The program call flow for “recommendation engine development” generated by the\n",
            "architect agent ( zoom in for a better view ).\n",
            "ware design scenarios and standard operating procedures (SOPs) where effective communication is\n",
            "essential.\n",
            "27\n",
            "\n"
          ]
        }
      ]
    }
  ]
}